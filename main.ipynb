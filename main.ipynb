{
 "cells": [
  {
   "cell_type": "markdown",
   "metadata": {},
   "source": [
    "# Creating Arabic vCards\n",
    "> **Puprose:** this notebook is a Python script that iterates trhough CSV files. Then, creates vCard for each row.\n",
    "> **Date:** January - 2021."
   ]
  },
  {
   "cell_type": "markdown",
   "metadata": {},
   "source": [
    "## Rules\n",
    "- This code assumes the gven CSV files has an ordered columns which contain these infirmation respectively: name, email, phone, category."
   ]
  },
  {
   "cell_type": "code",
   "execution_count": 3,
   "metadata": {},
   "outputs": [],
   "source": [
    "import csv\n",
    "\n",
    "def vcfWriter(name, phone):\n",
    "    vcfLines = []\n",
    "    vcfLines.append('BEGIN:VCARD')\n",
    "    vcfLines.append('VERSION:4.0')\n",
    "    vcfLines.append('FN;CHARSET=UTF-8;ENCODING=QUOTED-PRINTABLE:%s' %  name)\n",
    "    vcfLines.append('EMAIL:%s' % email)\n",
    "    vcfLines.append('TEL:%s' % phone)\n",
    "    vcfLines.append('CATEGORIES:%s' % category)\n",
    "    vcfLines.append('END:VCARD')\n",
    "    vcfString = '\\n'.join(vcfLines) + '\\n'\n",
    "    print(\"Creating vCard with these information:\\n{}\".format(vcfString))\n",
    "    return vcfString.encode(\"utf-8\")"
   ]
  },
  {
   "cell_type": "code",
   "execution_count": 4,
   "metadata": {},
   "outputs": [
    {
     "name": "stdout",
     "output_type": "stream",
     "text": [
      "Creating vCard with these information:\n",
      "BEGIN:VCARD\n",
      "VERSION:4.0\n",
      "FN;CHARSET=UTF-8;ENCODING=QUOTED-PRINTABLE:سارة\n",
      "EMAIL:sara@example.com\n",
      "TEL:501234567\n",
      "CATEGORIES:Friend\n",
      "END:VCARD\n",
      "\n",
      "Creating vCard with these information:\n",
      "BEGIN:VCARD\n",
      "VERSION:4.0\n",
      "FN;CHARSET=UTF-8;ENCODING=QUOTED-PRINTABLE:نورة\n",
      "EMAIL:noura@example.com\n",
      "TEL:509876543\n",
      "CATEGORIES:Work\n",
      "END:VCARD\n",
      "\n"
     ]
    }
   ],
   "source": [
    "# Get data from the CSV file\n",
    "with open(u'contacts.csv', \"r\", encoding='utf-8') as csvFile:\n",
    "    csvReader = csv.reader(csvFile)\n",
    "    csvData = list(csvReader)\n",
    "\n",
    "    # Iterate over the lines of the CSV table\n",
    "    for row in range(len(csvData)):\n",
    "        if row == 0:\n",
    "            continue # Skip the first row (headers)\n",
    "        else:\n",
    "            # Get contact data from current row\n",
    "            # (Tweak the column indexes to fit your data)\n",
    "            name = csvData[row][0]\n",
    "            email = csvData[row][1]\n",
    "            phone = csvData[row][2]\n",
    "            category = csvData[row][3]\n",
    "\n",
    "            # Write the corresponding vCard string to a .vcf file:\n",
    "            outputFile = open(\"contacts_files\\\\\" + name + '.vcf', 'wb')\n",
    "            outputFile.write(vcfWriter(name, phone))\n",
    "            outputFile.close()"
   ]
  }
 ],
 "metadata": {
  "kernelspec": {
   "display_name": "Python 3",
   "language": "python",
   "name": "python3"
  },
  "language_info": {
   "codemirror_mode": {
    "name": "ipython",
    "version": 3
   },
   "file_extension": ".py",
   "mimetype": "text/x-python",
   "name": "python",
   "nbconvert_exporter": "python",
   "pygments_lexer": "ipython3",
   "version": "3.7.6"
  }
 },
 "nbformat": 4,
 "nbformat_minor": 4
}
