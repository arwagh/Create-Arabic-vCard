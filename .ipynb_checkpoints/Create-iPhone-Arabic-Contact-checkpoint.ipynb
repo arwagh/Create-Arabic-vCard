{
 "cells": [
  {
   "cell_type": "code",
   "execution_count": 3,
   "metadata": {},
   "outputs": [
    {
     "name": "stdout",
     "output_type": "stream",
     "text": [
      "name:  ﺃﺭﻭﻯ ﻣﺴﺘﻔﻴﺪﺓ ﻋﻠﻢ \n",
      "phone:  545075432\n",
      "name:  ﻣﺮﻳﻢ ﻣﺴﺘﻔﻴﺪﺓ ﻋﻠﻢ \n",
      "phone:  545097643\n"
     ]
    }
   ],
   "source": [
    "import csv\n",
    "from bidi.algorithm import get_display\n",
    "import arabic_reshaper\n",
    "\n",
    "def vcfWriter(name, phone):\n",
    "    vcfLines = []\n",
    "    vcfLines.append('BEGIN:VCARD')\n",
    "    vcfLines.append('VERSION:4.0')\n",
    "    vcfLines.append('FN:%s' % arabic_reshaper.reshape(name))\n",
    "    #vcfLines.append('EMAIL:%s' % email)\n",
    "    vcfLines.append('TEL:%s' % arabic_reshaper.reshape(phone))\n",
    "    #vcfLines.append('CATEGORIES:%s' % category)\n",
    "    vcfLines.append('END:VCARD')\n",
    "    vcfString = '\\n'.join(vcfLines) + '\\n'\n",
    "    return vcfString\n",
    "\n",
    "# Get data from the CSV file\n",
    "with open(u'contacts.csv', \"r\", encoding='utf-8') as csvFile:\n",
    "    csvReader = csv.reader(csvFile)\n",
    "    csvData = list(csvReader)\n",
    "\n",
    "    # Iterate over the lines of the CSV table\n",
    "    for row in range(len(csvData)):\n",
    "        if row == 0:\n",
    "            continue # Skip the first row (headers)\n",
    "        else:\n",
    "            # Get contact data from current row\n",
    "            # (Tweak the column indexes to fit your data)\n",
    "            name = arabic_reshaper.reshape(csvData[row][0]) + ' ' + arabic_reshaper.reshape('مستفيدة علم ')\n",
    "            #email = csvData[row][1]\n",
    "            phone = arabic_reshaper.reshape(csvData[row][2])\n",
    "            #category = csvData[row][3]\n",
    "            print(\"name: \", name)\n",
    "            print(\"phone: \", phone)\n",
    "            # Write the corresponding vCard string to a .vcf file:\n",
    "            outputFile = open(arabic_reshaper.reshape(name) + '.vcf', 'w', encoding='utf-8')\n",
    "            outputFile.write(name, phone)\n",
    "            outputFile.close()"
   ]
  }
 ],
 "metadata": {
  "kernelspec": {
   "display_name": "Python 3",
   "language": "python",
   "name": "python3"
  },
  "language_info": {
   "codemirror_mode": {
    "name": "ipython",
    "version": 3
   },
   "file_extension": ".py",
   "mimetype": "text/x-python",
   "name": "python",
   "nbconvert_exporter": "python",
   "pygments_lexer": "ipython3",
   "version": "3.7.6"
  }
 },
 "nbformat": 4,
 "nbformat_minor": 4
}
